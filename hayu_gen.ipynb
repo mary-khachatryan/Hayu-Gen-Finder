{
 "cells": [
  {
   "cell_type": "code",
   "execution_count": 3,
   "metadata": {},
   "outputs": [],
   "source": [
    "import pandas as pd\n",
    "import streamlit as st\n",
    "import os"
   ]
  },
  {
   "cell_type": "code",
   "execution_count": 6,
   "metadata": {},
   "outputs": [
    {
     "name": "stdout",
     "output_type": "stream",
     "text": [
      "..\\elections.csv\n"
     ]
    }
   ],
   "source": [
    "csvfile_path = os.path.join('..','Hayu-Gen-Finder','elections.csv')\n",
    "print(csvfile_path)\n",
    "#   home.file_path = os.path.join(directory, *subdirectories, file_name)\n",
    "# df = pd.read_csv(csvfile_path, dtype= {'bnakavaer':str})\n",
    "\n",
    "# a = df.columns[6]\n",
    "# print(a)\n",
    "# print(type(a))\n",
    "elections.csv"
   ]
  }
 ],
 "metadata": {
  "kernelspec": {
   "display_name": "Python 3",
   "language": "python",
   "name": "python3"
  },
  "language_info": {
   "codemirror_mode": {
    "name": "ipython",
    "version": 3
   },
   "file_extension": ".py",
   "mimetype": "text/x-python",
   "name": "python",
   "nbconvert_exporter": "python",
   "pygments_lexer": "ipython3",
   "version": "3.10.10"
  }
 },
 "nbformat": 4,
 "nbformat_minor": 2
}
