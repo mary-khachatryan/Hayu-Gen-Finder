{
 "cells": [
  {
   "cell_type": "code",
   "execution_count": 2,
   "metadata": {},
   "outputs": [],
   "source": [
    "import pandas as pd\n",
    "import streamlit as st\n",
    "import os\n",
    "from tqdm import tqdm\n",
    "from matplotlib import pyplot "
   ]
  },
  {
   "cell_type": "code",
   "execution_count": 3,
   "metadata": {},
   "outputs": [],
   "source": [
    "csvfile_path = os.path.join('..','Hayu-Gen-Finder','elections.csv')\n",
    "df = pd.read_csv(csvfile_path, dtype= {'bnakavaer':str})\n"
   ]
  },
  {
   "cell_type": "code",
   "execution_count": 7,
   "metadata": {},
   "outputs": [
    {
     "name": "stdout",
     "output_type": "stream",
     "text": [
      "         azganun        anun haeranun or_amis_tari    marz   hamaenq  \\\n",
      "0  Հարությունյան       Կարեն   Շաքարի   14/11/1997  ԿՈՏԱՅՔ  ՆՈՐ ՀԱՃՆ   \n",
      "1      Աղաջանյան      Կարինե   Ժորայի   14/08/1964  ԿՈՏԱՅՔ  ՆՈՐ ՀԱՃՆ   \n",
      "2  Հարությունյան  Հարություն   Շաքարի   29/10/1986  ԿՈՏԱՅՔ  ՆՈՐ ՀԱՃՆ   \n",
      "3     Ալեքսանյան      Համեստ   Արսենի   24/10/1954  ԿՈՏԱՅՔ  ՆՈՐ ՀԱՃՆ   \n",
      "4  Հարությունյան       Շաքար   Արտաշի   01/01/1959  ԿՈՏԱՅՔ  ՆՈՐ ՀԱՃՆ   \n",
      "5       Լազարյան       Հակոբ  Ռուբիկի   25/07/1977  ԿՈՏԱՅՔ  ՆՈՐ ՀԱՃՆ   \n",
      "6        Վերդյան    Շուշանիկ  Ռուբենի   05/10/1951  ԿՈՏԱՅՔ  ՆՈՐ ՀԱՃՆ   \n",
      "7      Գեւորգյան      Միլենա   Միշայի   04/09/1987  ԿՈՏԱՅՔ  ՆՈՐ ՀԱՃՆ   \n",
      "8      Մուրադյան   Արմենուհի  Գառնիկի   23/05/1982  ԿՈՏԱՅՔ  ՆՈՐ ՀԱՃՆ   \n",
      "9      Մուրադյան       Արտակ  Գառնիկի   27/05/1973  ԿՈՏԱՅՔ  ՆՈՐ ՀԱՃՆ   \n",
      "\n",
      "  bnakavaer                 hasce  taracq texamas  gender  \n",
      "0       NaN   Չարենցի Փ.   31   1      28   28/01    male  \n",
      "1       NaN   Չարենցի Փ.   31   1      28   28/01    male  \n",
      "2       NaN   Չարենցի Փ.   31   1      28   28/01    male  \n",
      "3       NaN  Չարենցի Փ.   26   71      28   28/01    male  \n",
      "4       NaN   Չարենցի Փ.   31   1      28   28/01    male  \n",
      "5       NaN   Չարենցի Փ.   31   2      28   28/01    male  \n",
      "6       NaN   Չարենցի Փ.   31   2      28   28/01  female  \n",
      "7       NaN   Չարենցի Փ.   31   3      28   28/01  female  \n",
      "8       NaN   Չարենցի Փ.   31   3      28   28/01  female  \n",
      "9       NaN   Չարենցի Փ.   31   3      28   28/01    male  \n"
     ]
    }
   ],
   "source": [
    "unique_hayeranun = set(df[\"haeranun\"])\n",
    "df[\"gender\"] = df['anun'].apply(lambda x: 'male' if x+'ի' in unique_hayeranun else 'female')\n",
    "print(df.head(10))\n",
    "\n"
   ]
  },
  {
   "cell_type": "code",
   "execution_count": 16,
   "metadata": {},
   "outputs": [
    {
     "name": "stdout",
     "output_type": "stream",
     "text": [
      "Male:: 57.83096439393087\n",
      "Female:: 42.16903560606913\n"
     ]
    },
    {
     "name": "stderr",
     "output_type": "stream",
     "text": [
      "2024-07-08 12:58:56.811 \n",
      "  \u001b[33m\u001b[1mWarning:\u001b[0m to view this Streamlit app on a browser, run it with the following\n",
      "  command:\n",
      "\n",
      "    streamlit run C:\\Users\\MSI\\AppData\\Roaming\\Python\\Python310\\site-packages\\ipykernel_launcher.py [ARGUMENTS]\n"
     ]
    }
   ],
   "source": [
    "percent_male = df['gender'].value_counts().get('male',0) / len(df) * 100\n",
    "percent_female = 100 - percent_male\n",
    "print(\"Male::\",percent_male)\n",
    "print(\"Female::\",percent_female)\n",
    "st.write(\"hey\")"
   ]
  }
 ],
 "metadata": {
  "kernelspec": {
   "display_name": "Python 3",
   "language": "python",
   "name": "python3"
  },
  "language_info": {
   "codemirror_mode": {
    "name": "ipython",
    "version": 3
   },
   "file_extension": ".py",
   "mimetype": "text/x-python",
   "name": "python",
   "nbconvert_exporter": "python",
   "pygments_lexer": "ipython3",
   "version": "3.10.10"
  }
 },
 "nbformat": 4,
 "nbformat_minor": 2
}
